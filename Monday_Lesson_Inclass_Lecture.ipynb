{
 "cells": [
  {
   "cell_type": "markdown",
   "metadata": {},
   "source": [
    "# Week 2 - Monday Lesson (variable assignment, loops, lists)"
   ]
  },
  {
   "cell_type": "markdown",
   "metadata": {},
   "source": [
    "## Tasks Today:\n",
    "\n",
    "1) Int & Float assignments <br>\n",
    " &nbsp;&nbsp;&nbsp;&nbsp; a) Assigning int <br>\n",
    " &nbsp;&nbsp;&nbsp;&nbsp; b) Assigning float <br>\n",
    " &nbsp;&nbsp;&nbsp;&nbsp; c) Performing Calculations on ints and floats <br>\n",
    " &nbsp;&nbsp;&nbsp;&nbsp;&nbsp;&nbsp;&nbsp;&nbsp; - Addition <br>\n",
    " &nbsp;&nbsp;&nbsp;&nbsp;&nbsp;&nbsp;&nbsp;&nbsp; - Subtraction <br>\n",
    " &nbsp;&nbsp;&nbsp;&nbsp;&nbsp;&nbsp;&nbsp;&nbsp; - Multiplication <br>\n",
    " &nbsp;&nbsp;&nbsp;&nbsp;&nbsp;&nbsp;&nbsp;&nbsp; - Division <br>\n",
    " &nbsp;&nbsp;&nbsp;&nbsp;&nbsp;&nbsp;&nbsp;&nbsp; - Floor Division <br>\n",
    " &nbsp;&nbsp;&nbsp;&nbsp;&nbsp;&nbsp;&nbsp;&nbsp; - Modulo <br>\n",
    " &nbsp;&nbsp;&nbsp;&nbsp;&nbsp;&nbsp;&nbsp;&nbsp; - Exponential <br>\n",
    "2) String Input-Output <br>\n",
    " &nbsp;&nbsp;&nbsp;&nbsp; a) String Assignment <br>\n",
    " &nbsp;&nbsp;&nbsp;&nbsp; b) print() <br>\n",
    " &nbsp;&nbsp;&nbsp;&nbsp; c) String Concatenation <br>\n",
    " &nbsp;&nbsp;&nbsp;&nbsp; d) Escape Characters <br>\n",
    " &nbsp;&nbsp;&nbsp;&nbsp; e) Type Conversion <br>\n",
    " &nbsp;&nbsp;&nbsp;&nbsp; f) format() <br>\n",
    " &nbsp;&nbsp;&nbsp;&nbsp; g) Old Way (python 2) <br>\n",
    "3) <b>In-Class Exercise #1</b> <br>\n",
    "4) Booleans <br>\n",
    "5) If Statements <br>\n",
    " &nbsp;&nbsp;&nbsp;&nbsp; a) syntax <br>\n",
    " &nbsp;&nbsp;&nbsp;&nbsp; b) truth tree <br>\n",
    " &nbsp;&nbsp;&nbsp;&nbsp; c) and/or <br>\n",
    " &nbsp;&nbsp;&nbsp;&nbsp; d) elif <br>\n",
    " &nbsp;&nbsp;&nbsp;&nbsp; 3) else <br>\n",
    "6) <b>In-Class Exercise #2</b> <br>\n",
    "7) Lists <br>\n",
    " &nbsp;&nbsp;&nbsp;&nbsp; a) Declaring Lists <br>\n",
    " &nbsp;&nbsp;&nbsp;&nbsp; b) Indexing a List <br>\n",
    " &nbsp;&nbsp;&nbsp;&nbsp; c) .append() <br>\n",
    " &nbsp;&nbsp;&nbsp;&nbsp; d) .insert() <br>\n",
    " &nbsp;&nbsp;&nbsp;&nbsp; e) .pop() <br>\n",
    " &nbsp;&nbsp;&nbsp;&nbsp; f) .remove() <br>\n",
    " &nbsp;&nbsp;&nbsp;&nbsp; g) del() <br>\n",
    " &nbsp;&nbsp;&nbsp;&nbsp; h) Concatenating Two Lists <br>\n",
    " &nbsp;&nbsp;&nbsp;&nbsp; i) Lists Within Lists <br>\n",
    " &nbsp;&nbsp;&nbsp;&nbsp; j) Looping Through Lists <br>\n",
    "8) For Loops <br>\n",
    " &nbsp;&nbsp;&nbsp;&nbsp; a) Using 'in' keyword <br>\n",
    " &nbsp;&nbsp;&nbsp;&nbsp; b) Continue Statement <br>\n",
    " &nbsp;&nbsp;&nbsp;&nbsp; c) Break Statement <br>\n",
    " &nbsp;&nbsp;&nbsp;&nbsp; d) Pass Statement <br>\n",
    " &nbsp;&nbsp;&nbsp;&nbsp; e) Double For Loops <br>\n",
    "9) While Loops <br>\n",
    " &nbsp;&nbsp;&nbsp;&nbsp; a) Looping 'While True' <br>\n",
    " &nbsp;&nbsp;&nbsp;&nbsp; b) While and For Loops Used Together <br>\n",
    "10) Built-In Functions <br>\n",
    " &nbsp;&nbsp;&nbsp;&nbsp; a) input() <br>\n",
    " &nbsp;&nbsp;&nbsp;&nbsp; b) range() <br>\n",
    " &nbsp;&nbsp;&nbsp;&nbsp; b) len() <br>\n",
    " &nbsp;&nbsp;&nbsp;&nbsp; c) help() <br>\n",
    " &nbsp;&nbsp;&nbsp;&nbsp; d) isinstance() <br>\n",
    "12) Try and Except <br>\n"
   ]
  },
  {
   "cell_type": "markdown",
   "metadata": {},
   "source": [
    "### Int & Float Assignments"
   ]
  },
  {
   "cell_type": "markdown",
   "metadata": {},
   "source": [
    "##### Assigning int"
   ]
  },
  {
   "cell_type": "code",
   "execution_count": null,
   "metadata": {},
   "outputs": [],
   "source": [
    "num_int = 756\n",
    "\n",
    "print(num_int)\n",
    "print(type(num_int))"
   ]
  },
  {
   "cell_type": "markdown",
   "metadata": {},
   "source": [
    "##### Assinging float"
   ]
  },
  {
   "cell_type": "code",
   "execution_count": null,
   "metadata": {},
   "outputs": [],
   "source": [
    "num_float = 234.23478\n",
    "\n",
    "print(num_float)\n",
    "print(type(num_float))"
   ]
  },
  {
   "cell_type": "code",
   "execution_count": null,
   "metadata": {},
   "outputs": [],
   "source": [
    "#The decimal (.) is what tells python to make this a float\n",
    "\n",
    "float_again = 35.\n",
    "\n",
    "print(float_again)\n",
    "print(type(float_again))"
   ]
  },
  {
   "cell_type": "code",
   "execution_count": null,
   "metadata": {},
   "outputs": [],
   "source": [
    "help(isinstance)"
   ]
  },
  {
   "cell_type": "code",
   "execution_count": null,
   "metadata": {},
   "outputs": [],
   "source": [
    "float_again = 32.1\n",
    "isinstance(float_again, float)"
   ]
  },
  {
   "cell_type": "markdown",
   "metadata": {},
   "source": [
    "#### Performing Calculations on ints and floats"
   ]
  },
  {
   "cell_type": "markdown",
   "metadata": {},
   "source": [
    "##### Addition"
   ]
  },
  {
   "cell_type": "code",
   "execution_count": null,
   "metadata": {},
   "outputs": [],
   "source": [
    "num1 = 2\n",
    "num2 = 5\n",
    "\n",
    "# int + int => int\n",
    "# float + float => float\n",
    "# int + float => float\n",
    "\n",
    "result = num1 + num2\n",
    "\n",
    "print(result)\n",
    "print(type(result))"
   ]
  },
  {
   "cell_type": "code",
   "execution_count": null,
   "metadata": {},
   "outputs": [],
   "source": [
    "# Short Hand\n",
    "result += 10 # result = result + 10\n",
    "print(result)"
   ]
  },
  {
   "cell_type": "markdown",
   "metadata": {},
   "source": [
    "##### Subtraction"
   ]
  },
  {
   "cell_type": "code",
   "execution_count": null,
   "metadata": {},
   "outputs": [],
   "source": [
    "result_diff = num2 - num1\n",
    "print(result_diff)\n",
    "\n",
    "result_diff -= 1 # result_diff = result_diff - 1\n",
    "print(result_diff)"
   ]
  },
  {
   "cell_type": "markdown",
   "metadata": {},
   "source": [
    "##### Multiplication"
   ]
  },
  {
   "cell_type": "code",
   "execution_count": null,
   "metadata": {},
   "outputs": [],
   "source": [
    "result_prod = num1 * num2\n",
    "print(result_prod)\n",
    "\n",
    "result_prod *= 5 # result_prod = result_prod * 5\n",
    "print(result_prod)"
   ]
  },
  {
   "cell_type": "markdown",
   "metadata": {},
   "source": [
    "##### Division"
   ]
  },
  {
   "cell_type": "code",
   "execution_count": null,
   "metadata": {},
   "outputs": [],
   "source": [
    "result_div = num2 / num1\n",
    "print(result_div)\n",
    "\n",
    "new_result = 20/10\n",
    "print(new_result)\n",
    "print(type(new_result))\n",
    "# The division operator (/) ALWAYS returns a float\n",
    "\n",
    "result_div /= 2 # result_div = result_div / 2\n",
    "print(result_div)"
   ]
  },
  {
   "cell_type": "markdown",
   "metadata": {},
   "source": [
    "##### Floor Division"
   ]
  },
  {
   "cell_type": "code",
   "execution_count": null,
   "metadata": {},
   "outputs": [],
   "source": [
    "result_norm = 15 / 4\n",
    "print(result_norm)\n",
    "\n",
    "# Returns the floor of a division expression i.e. the highest intege less than equal to the value\n",
    "# Syntax - //\n",
    "result_floor = 15 // 4\n",
    "print(result_floor)\n",
    "\n",
    "\n",
    "result_floor //= 2 # result_floor = result_floor // 2\n",
    "print(result_floor)"
   ]
  },
  {
   "cell_type": "markdown",
   "metadata": {},
   "source": [
    "##### Modulo"
   ]
  },
  {
   "cell_type": "code",
   "execution_count": null,
   "metadata": {},
   "outputs": [],
   "source": [
    "# Returns the remainder of a division expression\n",
    "\n",
    "num3 = 48\n",
    "num4 = 5\n",
    "\n",
    "result_mod = num3 % num4\n",
    "print(result_mod)\n",
    "\n",
    "result_mod %= 2 # result_mod = result_mod % 2\n",
    "print(result_mod)"
   ]
  },
  {
   "cell_type": "markdown",
   "metadata": {},
   "source": [
    "##### Exponential"
   ]
  },
  {
   "cell_type": "code",
   "execution_count": null,
   "metadata": {},
   "outputs": [],
   "source": [
    "num5 = 3\n",
    "num6 = 2\n",
    "\n",
    "cubed = num6 ** num5\n",
    "print(cubed)\n",
    "\n",
    "cubed **= 3 # cubed = cubed ** 3\n",
    "print(cubed)"
   ]
  },
  {
   "cell_type": "markdown",
   "metadata": {},
   "source": [
    "### String Input-Output"
   ]
  },
  {
   "cell_type": "markdown",
   "metadata": {},
   "source": [
    "##### String Assignment"
   ]
  },
  {
   "cell_type": "code",
   "execution_count": null,
   "metadata": {},
   "outputs": [],
   "source": [
    "name1 = \"Lukas\"\n",
    "print(name1)\n",
    "print(type(name1))"
   ]
  },
  {
   "cell_type": "code",
   "execution_count": null,
   "metadata": {},
   "outputs": [],
   "source": [
    "name2 = 'Stanton'\n",
    "print(name2)\n",
    "print(type(name2))"
   ]
  },
  {
   "cell_type": "code",
   "execution_count": null,
   "metadata": {},
   "outputs": [],
   "source": [
    "contraction1 = \"You can't do that\"\n",
    "print(contraction1)"
   ]
  },
  {
   "cell_type": "code",
   "execution_count": null,
   "metadata": {},
   "outputs": [],
   "source": [
    "contraction = 'You can't do that'\n",
    "print(contraction2)"
   ]
  },
  {
   "cell_type": "code",
   "execution_count": null,
   "metadata": {},
   "outputs": [],
   "source": [
    "contraction3 = 'You can\\'t do that'\n",
    "print(contraction3)"
   ]
  },
  {
   "cell_type": "code",
   "execution_count": null,
   "metadata": {},
   "outputs": [],
   "source": [
    "quote1 = 'He said, \"Hello, how are you?\"'\n",
    "print(quote1)"
   ]
  },
  {
   "cell_type": "code",
   "execution_count": null,
   "metadata": {},
   "outputs": [],
   "source": [
    "quote2 = \"He said, \\\"Hello, how are you?\\\"\"\n",
    "print(quote2)"
   ]
  },
  {
   "cell_type": "markdown",
   "metadata": {},
   "source": [
    "##### Escape Characters"
   ]
  },
  {
   "cell_type": "code",
   "execution_count": null,
   "metadata": {},
   "outputs": [],
   "source": [
    "print(\"Hello my\n",
    "      name is Lukas\")"
   ]
  },
  {
   "cell_type": "code",
   "execution_count": null,
   "metadata": {},
   "outputs": [],
   "source": [
    "print(\"Hello my \\\n",
    "name is Lukas\")"
   ]
  },
  {
   "cell_type": "code",
   "execution_count": null,
   "metadata": {},
   "outputs": [],
   "source": [
    "# \\n - newline character\n",
    "print(\"Hello\\nhow are you?\")"
   ]
  },
  {
   "cell_type": "code",
   "execution_count": null,
   "metadata": {},
   "outputs": [],
   "source": [
    "# \\t - tab character\n",
    "print(\"Hello\\thow are you?\")"
   ]
  },
  {
   "cell_type": "code",
   "execution_count": null,
   "metadata": {},
   "outputs": [],
   "source": [
    "print(\"Dear Lukas,\\n\\tI hope you are doing well.\")"
   ]
  },
  {
   "cell_type": "code",
   "execution_count": null,
   "metadata": {},
   "outputs": [],
   "source": [
    "# Raw String\n",
    "print(r\"Dear Lukas,\\n\\tI hope you are doing well.\")"
   ]
  },
  {
   "cell_type": "code",
   "execution_count": null,
   "metadata": {},
   "outputs": [],
   "source": [
    "my_pattern = r\"cat\\b\"\n",
    "print(my_pattern)"
   ]
  },
  {
   "cell_type": "markdown",
   "metadata": {},
   "source": [
    "##### String Concatenation"
   ]
  },
  {
   "cell_type": "code",
   "execution_count": null,
   "metadata": {},
   "outputs": [],
   "source": [
    "first_name = 'John'\n",
    "last_name = 'Smith'\n",
    "\n",
    "full_name = first_name + ' ' + last_name\n",
    "print(full_name)\n",
    "\n",
    "# += works with strings too!\n",
    "full_name += \", Jr.\" # full_name = full_name \", Jr.\"\n",
    "print(full_name)"
   ]
  },
  {
   "cell_type": "code",
   "execution_count": null,
   "metadata": {},
   "outputs": [],
   "source": [
    "num_a = \"10\"\n",
    "num_b = \"10\"\n",
    "\n",
    "num_c = num_a + num_b\n",
    "print(num_c) # TypeError"
   ]
  },
  {
   "cell_type": "code",
   "execution_count": null,
   "metadata": {},
   "outputs": [],
   "source": [
    "print(\"_\"*40)"
   ]
  },
  {
   "cell_type": "markdown",
   "metadata": {},
   "source": [
    "##### Type Conversion"
   ]
  },
  {
   "cell_type": "code",
   "execution_count": null,
   "metadata": {
    "scrolled": true
   },
   "outputs": [],
   "source": [
    "print(type(num_b))"
   ]
  },
  {
   "cell_type": "code",
   "execution_count": null,
   "metadata": {},
   "outputs": [],
   "source": [
    "num_b_int = int(num_b)\n",
    "print(num_b_int)\n",
    "print(type(num_b_int))\n",
    "\n",
    "num_c = num_a + num_b_int\n",
    "print(num_c)"
   ]
  },
  {
   "cell_type": "code",
   "execution_count": null,
   "metadata": {},
   "outputs": [],
   "source": [
    "print(type(num_a))"
   ]
  },
  {
   "cell_type": "code",
   "execution_count": null,
   "metadata": {},
   "outputs": [],
   "source": [
    "num_a_as_str = str(num_a)\n",
    "print(num_a_as_str)\n",
    "print(type(num_a_as_str))\n",
    "\n",
    "num_c = num_a_as_str + num_b\n",
    "print(num_c)"
   ]
  },
  {
   "cell_type": "code",
   "execution_count": null,
   "metadata": {},
   "outputs": [],
   "source": [
    "some_int = int('453245')\n",
    "print(some_int)"
   ]
  },
  {
   "cell_type": "code",
   "execution_count": null,
   "metadata": {},
   "outputs": [],
   "source": [
    "some_float = float('453.24534')\n",
    "print(some_float)"
   ]
  },
  {
   "cell_type": "markdown",
   "metadata": {},
   "source": [
    "##### .format() and f-strings"
   ]
  },
  {
   "cell_type": "code",
   "execution_count": null,
   "metadata": {},
   "outputs": [],
   "source": [
    "help(str.format)"
   ]
  },
  {
   "cell_type": "code",
   "execution_count": null,
   "metadata": {},
   "outputs": [],
   "source": [
    "name = \"Lukas\"\n",
    "home = \"Orange County\"\n",
    "age = 46\n",
    "\n",
    "print(\"Hello my name is {} and I am {} years old and I am from {}!\".format(name, age, home))\n",
    "print(f\"Hello my name is {name} and I am {age} years old and I am from {home}!\")"
   ]
  },
  {
   "cell_type": "markdown",
   "metadata": {},
   "source": [
    "##### Old Way (python 2)"
   ]
  },
  {
   "cell_type": "code",
   "execution_count": null,
   "metadata": {},
   "outputs": [],
   "source": [
    "print(\"Hello my name is %s and I am from %s\" % (name, home))"
   ]
  },
  {
   "cell_type": "code",
   "execution_count": null,
   "metadata": {},
   "outputs": [],
   "source": [
    "result = 10 + 5\n",
    "print(\"The result is %i\" % result)"
   ]
  },
  {
   "cell_type": "markdown",
   "metadata": {},
   "source": [
    "# In-Class Exercise 1 <br>\n",
    "<p>Increase the year by 1 and then print out the following statement using type conversion and a formatted string</p>"
   ]
  },
  {
   "cell_type": "code",
   "execution_count": null,
   "metadata": {},
   "outputs": [],
   "source": [
    "#OUTPUT:  I drive a blue 2023 Ford Focus.\n",
    "color = 'blue'\n",
    "make = 'Ford'\n",
    "year = '2022'\n",
    "model = 'Focus'\n",
    "\n",
    "year = int(year)\n",
    "year += 1\n",
    "print(f\"I drive a {color} {year} {make} {model}.\")"
   ]
  },
  {
   "cell_type": "markdown",
   "metadata": {},
   "source": [
    "### Booleans"
   ]
  },
  {
   "cell_type": "code",
   "execution_count": null,
   "metadata": {},
   "outputs": [],
   "source": [
    "bool_true = True\n",
    "\n",
    "print(bool_true)\n",
    "print(type(bool_true))"
   ]
  },
  {
   "cell_type": "code",
   "execution_count": null,
   "metadata": {},
   "outputs": [],
   "source": [
    "bool_false = False\n",
    "\n",
    "print(bool_false)\n",
    "print(type(bool_false))"
   ]
  },
  {
   "cell_type": "markdown",
   "metadata": {},
   "source": [
    "### If Statements"
   ]
  },
  {
   "cell_type": "code",
   "execution_count": null,
   "metadata": {},
   "outputs": [],
   "source": [
    "# if <expression>:\n",
    "#     <statement>\n",
    "\n",
    "# Indentation Matters! Lines indented under the\n",
    "\n",
    "if True:\n",
    "    print(\"Hello this is true\")"
   ]
  },
  {
   "cell_type": "code",
   "execution_count": null,
   "metadata": {},
   "outputs": [],
   "source": [
    "if False:\n",
    "    print(\"Hello this is false\")"
   ]
  },
  {
   "cell_type": "code",
   "execution_count": null,
   "metadata": {},
   "outputs": [],
   "source": [
    "print('Start Code')\n",
    "\n",
    "if False:\n",
    "    print('Hello')\n",
    "    print('How are you?')\n",
    "    \n",
    "print('End Code')"
   ]
  },
  {
   "cell_type": "code",
   "execution_count": null,
   "metadata": {},
   "outputs": [],
   "source": [
    "# Available operators: Greater(>), Less(<), Equal(==)\n",
    "# Greater or Equal(>=), Less or Equal (<=), Not Equal (!=)\n",
    "\n",
    "num1 = 10\n",
    "num2 = 5\n",
    "num3 = 2\n",
    "\n",
    "print(num1 > num2)\n",
    "print(num1 == num2 * num3)\n",
    "print(num1 != num3)\n",
    "print(num1 >= num2 * num3 * 2)"
   ]
  },
  {
   "cell_type": "code",
   "execution_count": null,
   "metadata": {},
   "outputs": [],
   "source": [
    "if num1 > num2:\n",
    "    print(\"num1 is greater than num2\")\n",
    "    \n",
    "if num1 == num2 * num3:\n",
    "    print(\"num1 is equal to num2 times num3\")\n",
    "    \n",
    "if num1 >= num2 * num3 * 2:\n",
    "    print(\"num1 is greater than or equal to num2 times num3 multiplied by 2\")"
   ]
  },
  {
   "cell_type": "markdown",
   "metadata": {},
   "source": [
    "## Using 'and'/'or' with If Statements"
   ]
  },
  {
   "cell_type": "code",
   "execution_count": null,
   "metadata": {},
   "outputs": [],
   "source": [
    "# Truth Tree:\n",
    "# T and T = T\n",
    "# T and F = F\n",
    "# F and F = F\n",
    "# T or T = T\n",
    "# T or F = T\n",
    "# F or F = F\n",
    "\n",
    "\n",
    "potential_candidate_gpa = 3.2\n",
    "potential_candidate_act = 30\n",
    "\n",
    "if potential_candidate_gpa > 2.5 and potential_candidate_act > 25:\n",
    "    print('Student has met minimum requirements. Move them along...')\n",
    "else:\n",
    "    print('Reject student...')"
   ]
  },
  {
   "cell_type": "code",
   "execution_count": null,
   "metadata": {},
   "outputs": [],
   "source": [
    "potential_candidate_gpa = 2.2\n",
    "potential_candidate_act = 20\n",
    "\n",
    "if potential_candidate_gpa > 2.5 or potential_candidate_act > 25:\n",
    "    print('Student has met minimum requirements. Move them along...')\n",
    "else:\n",
    "    print('Reject student...')"
   ]
  },
  {
   "cell_type": "code",
   "execution_count": null,
   "metadata": {},
   "outputs": [],
   "source": [
    "potential_student = [(3.4, 32), (3.0, 23), (2.4, 27), (2.2, 20)]\n",
    "\n",
    "read_essays = []\n",
    "send_rejection = []\n",
    "\n",
    "for student in potential_student:\n",
    "    if student[0] > 2.5 or student[1] > 25:\n",
    "        read_essays.append(student)\n",
    "    else:\n",
    "        send_rejection.append(student)\n",
    "        \n",
    "print('Read Essays for: ', read_essays)\n",
    "print('Send Rejection emails to: ', send_rejection)"
   ]
  },
  {
   "cell_type": "markdown",
   "metadata": {},
   "source": [
    "### Else Statements"
   ]
  },
  {
   "cell_type": "code",
   "execution_count": null,
   "metadata": {},
   "outputs": [],
   "source": [
    "# An else statement runs when the if statement above it evaluates to False\n",
    "age = 17\n",
    "\n",
    "if age >= 18:\n",
    "    print('Person can vote')\n",
    "else:\n",
    "    print('You must be at least 18 to vote')"
   ]
  },
  {
   "cell_type": "markdown",
   "metadata": {},
   "source": [
    "### Elif Statements"
   ]
  },
  {
   "cell_type": "code",
   "execution_count": null,
   "metadata": {},
   "outputs": [],
   "source": [
    "# An elif only runs when the if (or elif) directly above it evaluates to False\n",
    "\n",
    "required_age = 18\n",
    "with_a_parent = 15\n",
    "has_parent = False\n",
    "\n",
    "movie_goer_age = 16\n",
    "\n",
    "if movie_goer_age >= required_age:\n",
    "    print('Thanks, enjoy the film!')\n",
    "elif movie_goer_age >= with_a_parent and has_parent:\n",
    "    print('Cool beans, enjoy the film with the folks.')\n",
    "elif movie_goer_age >= with_a_parent and not has_parent:\n",
    "    print(\"You're old enough to see this with a parent but I don't see anyone here.\")\n",
    "else:\n",
    "    print('You cannot see this film until you are older.')"
   ]
  },
  {
   "cell_type": "markdown",
   "metadata": {},
   "source": [
    "### In-Class Exercise 2 <br>\n",
    "<p>Write a program that will check a person's age and adjust the ticket price. Regular ticket price is $10. Seniors (65+) get 25 percent off and children (under 0-9) are half off. Print out the ticket price at the end</p>"
   ]
  },
  {
   "cell_type": "code",
   "execution_count": null,
   "metadata": {},
   "outputs": [],
   "source": [
    "ticket = 10\n",
    "person_age = 72 # Output: Your ticket is $7.50\n",
    "# person_age = 47 # Output: Your ticket is $10\n",
    "# person_age = 8 # Output: Your ticket is $5.00\n",
    "\n",
    "if person_age >= 65:\n",
    "    ticket *= .75\n",
    "elif person_age < 10:\n",
    "    ticket *= .50\n",
    "    \n",
    "print(f\"Your ticket is ${ticket:.2f}\")"
   ]
  },
  {
   "cell_type": "markdown",
   "metadata": {},
   "source": [
    "### Lists"
   ]
  },
  {
   "cell_type": "markdown",
   "metadata": {},
   "source": [
    "##### Declaring Lists"
   ]
  },
  {
   "cell_type": "code",
   "execution_count": null,
   "metadata": {},
   "outputs": [],
   "source": [
    "# Ordered colletion of data; mutable and iterable; data can be of any type;\n",
    "\n",
    "list_1 = [] # Empty list declaration\n",
    "print(list_1)\n",
    "print(type(list_1))\n",
    "\n",
    "names = ['Mike', 'Carol', 'Angelica', 'Jeff', 'Jim', 'Penelope']\n",
    "print(names)\n",
    "print(type(names))"
   ]
  },
  {
   "cell_type": "markdown",
   "metadata": {},
   "source": [
    "##### Indexing a List"
   ]
  },
  {
   "cell_type": "code",
   "execution_count": null,
   "metadata": {},
   "outputs": [],
   "source": [
    "# list[start: stop: step] * start is inclusive, stop is exclusive\n",
    "# 0-based index\n",
    "\n",
    "# Single Index\n",
    "print(names[3])\n",
    "\n",
    "# Negative numbers start from the back\n",
    "print(names[-1])\n",
    "\n",
    "# Slice the list at index 1 and go to the edd\n",
    "print(names[1:])\n",
    "\n",
    "# Slice the list at index 1 up to but not including index 5\n",
    "print(names[1:5])\n",
    "\n",
    "# Slice from the beginning of the list to a certain index (but not including) (leave the start empty)\n",
    "print(names[:4])\n",
    "\n",
    "# Slice the whole list -> make a copy of a list\n",
    "print(names[:])\n",
    "\n",
    "# Slice every other element in the list\n",
    "print(names[::2])\n",
    "\n",
    "# Negative steps will walk backwards through the list\n",
    "print(names[::-1])\n",
    "\n",
    "# Combo Time!\n",
    "print(names[1:5:2])"
   ]
  },
  {
   "cell_type": "code",
   "execution_count": null,
   "metadata": {},
   "outputs": [],
   "source": [
    "# Lists are mutable - meaning you can change the values using item assignment\n",
    "# Item assignment - list[index] = value\n",
    "\n",
    "print(names)\n",
    "\n",
    "names[4] = 'James'\n",
    "print(names)"
   ]
  },
  {
   "cell_type": "code",
   "execution_count": null,
   "metadata": {},
   "outputs": [],
   "source": [
    "# Strings are Immutable\n",
    "\n",
    "my_string = 'Hello World'\n",
    "\n",
    "print(my_string)\n",
    "\n",
    "my_string[2] = 'L'\n",
    "print(my_string)"
   ]
  },
  {
   "cell_type": "markdown",
   "metadata": {},
   "source": [
    "##### .append()"
   ]
  },
  {
   "cell_type": "code",
   "execution_count": null,
   "metadata": {},
   "outputs": [],
   "source": []
  },
  {
   "cell_type": "markdown",
   "metadata": {},
   "source": [
    "##### .insert()"
   ]
  },
  {
   "cell_type": "code",
   "execution_count": null,
   "metadata": {},
   "outputs": [],
   "source": [
    "# list.insert(index,value)\n"
   ]
  },
  {
   "cell_type": "markdown",
   "metadata": {},
   "source": [
    "##### .pop()"
   ]
  },
  {
   "cell_type": "code",
   "execution_count": null,
   "metadata": {},
   "outputs": [],
   "source": [
    "# default is the last value if no parameter is given\n",
    "# pop returns the element that was removed in case you want to assign it into a variable\n",
    "\n"
   ]
  },
  {
   "cell_type": "markdown",
   "metadata": {},
   "source": [
    "\n",
    "##### .remove()"
   ]
  },
  {
   "cell_type": "code",
   "execution_count": null,
   "metadata": {},
   "outputs": [],
   "source": [
    "# value to be removed , not index\n"
   ]
  },
  {
   "cell_type": "markdown",
   "metadata": {},
   "source": [
    "##### del()"
   ]
  },
  {
   "cell_type": "code",
   "execution_count": null,
   "metadata": {},
   "outputs": [],
   "source": [
    "# index to be removed, not value\n",
    "# BE CAREFUL with del, can cause indexing errors if not used carefully\n"
   ]
  },
  {
   "cell_type": "markdown",
   "metadata": {},
   "source": [
    "##### Concatenating Two Lists"
   ]
  },
  {
   "cell_type": "code",
   "execution_count": null,
   "metadata": {},
   "outputs": [],
   "source": [
    "# will append two lists together, not add up the elements in each list\n",
    "\n"
   ]
  },
  {
   "cell_type": "markdown",
   "metadata": {},
   "source": [
    "##### Lists Within Lists"
   ]
  },
  {
   "cell_type": "code",
   "execution_count": null,
   "metadata": {},
   "outputs": [],
   "source": [
    "# Lists are able to hold any type of element, including OTHER lists themsevles\n",
    "# they can also go as deep as you want, having many lists nested inside of each other\n"
   ]
  },
  {
   "cell_type": "markdown",
   "metadata": {},
   "source": [
    "### For Loops"
   ]
  },
  {
   "cell_type": "code",
   "execution_count": null,
   "metadata": {},
   "outputs": [],
   "source": [
    "# for <keyword> in <iterable>:\n",
    "#     <statement>\n",
    "\n",
    "print('Begin Loop')\n",
    "\n",
    "for x in [5, 10, 15, 20, 25, 30]:\n",
    "    print(x)\n",
    "    \n",
    "print('End Loop')"
   ]
  },
  {
   "cell_type": "code",
   "execution_count": null,
   "metadata": {},
   "outputs": [],
   "source": [
    "colors = ['red', 'orange', 'yello', 'green', 'blue', 'indego', 'violet']\n",
    "\n",
    "for color in colors: # Color is an example of self commenting code\n",
    "    print(color)"
   ]
  },
  {
   "cell_type": "code",
   "execution_count": null,
   "metadata": {},
   "outputs": [],
   "source": [
    "name = 'Lukas'\n",
    "\n",
    "for letter in name:\n",
    "    print(letter)\n",
    "print('Hello')"
   ]
  },
  {
   "cell_type": "markdown",
   "metadata": {},
   "source": [
    "##### Continue Statement"
   ]
  },
  {
   "cell_type": "code",
   "execution_count": null,
   "metadata": {},
   "outputs": [],
   "source": [
    "list_to_use = [10, 20, 30, 40, 50, 60, 70, 80, 90]"
   ]
  },
  {
   "cell_type": "code",
   "execution_count": null,
   "metadata": {},
   "outputs": [],
   "source": [
    "# will continue to next iteration"
   ]
  },
  {
   "cell_type": "code",
   "execution_count": null,
   "metadata": {},
   "outputs": [],
   "source": [
    "for element in list_to_use:\n",
    "    if element == 50:\n",
    "        continue\n",
    "    print(element)\n",
    "    print('Hello')"
   ]
  },
  {
   "cell_type": "markdown",
   "metadata": {},
   "source": [
    "##### Break Statement"
   ]
  },
  {
   "cell_type": "code",
   "execution_count": null,
   "metadata": {},
   "outputs": [],
   "source": [
    "# will break out of current loop"
   ]
  },
  {
   "cell_type": "code",
   "execution_count": null,
   "metadata": {},
   "outputs": [],
   "source": [
    "for element in list_to_use:\n",
    "    if element == 50:\n",
    "        break\n",
    "    print(element)\n",
    "    print('Hello')"
   ]
  },
  {
   "cell_type": "markdown",
   "metadata": {},
   "source": [
    "##### Pass Statement"
   ]
  },
  {
   "cell_type": "code",
   "execution_count": null,
   "metadata": {},
   "outputs": [],
   "source": [
    "# mostly used as a placeholder, and will continue on same iteration"
   ]
  },
  {
   "cell_type": "code",
   "execution_count": null,
   "metadata": {},
   "outputs": [],
   "source": [
    "for num in list_to_use:\n",
    "    # Do something here - come back and implement later\n",
    "    pass \n",
    "    \n",
    "print('Hello World')"
   ]
  },
  {
   "cell_type": "code",
   "execution_count": null,
   "metadata": {},
   "outputs": [],
   "source": [
    "def some_func():\n",
    "    pass\n",
    "\n",
    "some_func()"
   ]
  },
  {
   "cell_type": "markdown",
   "metadata": {},
   "source": [
    "##### Nested/Double For Loops"
   ]
  },
  {
   "cell_type": "code",
   "execution_count": null,
   "metadata": {},
   "outputs": [],
   "source": []
  },
  {
   "cell_type": "markdown",
   "metadata": {},
   "source": [
    "### While Loops"
   ]
  },
  {
   "cell_type": "code",
   "execution_count": null,
   "metadata": {},
   "outputs": [],
   "source": [
    "# while <conditional>:\n",
    "#     <statement to run while condition is true>\n",
    "\n",
    "num = 0\n",
    "\n",
    "print('Start while loop')\n",
    "\n",
    "while num < 10:\n",
    "    print(num)\n",
    "    num += 1\n",
    "    \n",
    "print('End While Loop')"
   ]
  },
  {
   "cell_type": "markdown",
   "metadata": {},
   "source": [
    "##### Looping 'While True'"
   ]
  },
  {
   "cell_type": "code",
   "execution_count": null,
   "metadata": {},
   "outputs": [],
   "source": [
    "game_over = True\n",
    "while True:\n",
    "    print('Thanks for playing the game ')\n",
    "    if game_over:\n",
    "        break"
   ]
  },
  {
   "cell_type": "markdown",
   "metadata": {},
   "source": [
    "### Built-In Functions"
   ]
  },
  {
   "cell_type": "markdown",
   "metadata": {},
   "source": [
    "##### input()"
   ]
  },
  {
   "cell_type": "code",
   "execution_count": null,
   "metadata": {},
   "outputs": [],
   "source": [
    "# input(question) => ALWAYS RETURNS A STRING\n"
   ]
  },
  {
   "cell_type": "code",
   "execution_count": null,
   "metadata": {},
   "outputs": [],
   "source": []
  },
  {
   "cell_type": "markdown",
   "metadata": {},
   "source": [
    "##### range()"
   ]
  },
  {
   "cell_type": "code",
   "execution_count": null,
   "metadata": {},
   "outputs": [],
   "source": [
    "#Start, Stop, Step\n"
   ]
  },
  {
   "cell_type": "markdown",
   "metadata": {},
   "source": [
    "##### len()"
   ]
  },
  {
   "cell_type": "code",
   "execution_count": null,
   "metadata": {},
   "outputs": [],
   "source": [
    "# check Length of variable\n"
   ]
  },
  {
   "cell_type": "code",
   "execution_count": null,
   "metadata": {},
   "outputs": [],
   "source": []
  },
  {
   "cell_type": "markdown",
   "metadata": {},
   "source": [
    "##### help()"
   ]
  },
  {
   "cell_type": "code",
   "execution_count": null,
   "metadata": {},
   "outputs": [],
   "source": [
    "# Use this function to view more info about a python function (With a DOCSTRING)\n"
   ]
  },
  {
   "cell_type": "markdown",
   "metadata": {},
   "source": [
    "##### isinstance()"
   ]
  },
  {
   "cell_type": "code",
   "execution_count": null,
   "metadata": {},
   "outputs": [],
   "source": [
    "# Check a variable to find out what Object family it belongs to\n",
    "# isinstace(var, type)\n"
   ]
  },
  {
   "cell_type": "markdown",
   "metadata": {},
   "source": [
    "### Try and Except"
   ]
  },
  {
   "cell_type": "code",
   "execution_count": null,
   "metadata": {},
   "outputs": [],
   "source": [
    "# use whenever you expect to encounter a bug so that the error doesn't cause the program to stop\n",
    "# Use so that you can log out graceful and useful error messages\n",
    "\n"
   ]
  },
  {
   "cell_type": "markdown",
   "metadata": {},
   "source": [
    "##### Looping Through Lists"
   ]
  },
  {
   "cell_type": "code",
   "execution_count": null,
   "metadata": {},
   "outputs": [],
   "source": [
    "# two ways to loop through a list, using range for index and in for values\n",
    "\n",
    "# Loop with a for loop (By Index)\n",
    "\n",
    "    \n",
    "# Loop with a for loop (Using the 'in' keyword)\n",
    "\n"
   ]
  },
  {
   "cell_type": "markdown",
   "metadata": {},
   "source": [
    "## Exercise #1 <br>\n",
    "<p>Cube Number Test... Print out all cubed numbers up to the total value 1000. Meaning that if the cubed number is over 1000 break the loop.</p>"
   ]
  },
  {
   "cell_type": "code",
   "execution_count": 22,
   "metadata": {},
   "outputs": [
    {
     "name": "stdout",
     "output_type": "stream",
     "text": [
      "[0, 1, 8, 27, 64, 125, 216, 343, 512, 729, 1000]\n"
     ]
    }
   ],
   "source": [
    "list_num = []\n",
    "i = 0\n",
    "count = 0\n",
    "\n",
    "while i <= 999:\n",
    "    i = count\n",
    "    i **= 3\n",
    "    list_num.append(i)\n",
    "    count += 1\n",
    "        \n",
    "print(list_num)"
   ]
  },
  {
   "cell_type": "markdown",
   "metadata": {},
   "source": [
    "## Exercise #2 <br>\n",
    "<p>Get first prime numbers up to 100</p>"
   ]
  },
  {
   "cell_type": "code",
   "execution_count": 31,
   "metadata": {},
   "outputs": [
    {
     "name": "stdout",
     "output_type": "stream",
     "text": [
      "[2, 3, 5, 7, 11, 13, 17, 19, 23, 29, 31, 37, 41, 43, 47, 53, 59, 61, 67, 71, 73, 79, 83, 89, 97]\n"
     ]
    }
   ],
   "source": [
    "prime = []\n",
    "for index in range(2, 101):\n",
    "    is_prime = True\n",
    "    for lesser in range(2, index):\n",
    "        if index % lesser == 0:\n",
    "            is_prime = False\n",
    "            break\n",
    "    if is_prime:\n",
    "        prime.append(index)\n",
    "print(prime)"
   ]
  },
  {
   "cell_type": "markdown",
   "metadata": {},
   "source": [
    "# Exercise 3 <br>\n",
    "<p>Take in a users input for their age, if they are younger than 18 print kids, if they're 18 to 65 print adults, else print seniors</p>"
   ]
  },
  {
   "cell_type": "code",
   "execution_count": 5,
   "metadata": {},
   "outputs": [
    {
     "name": "stdout",
     "output_type": "stream",
     "text": [
      "Tell me your age: 5\n",
      "kids\n",
      "Tell me your age: 5\n",
      "kids\n",
      "Tell me your age: quit\n"
     ]
    }
   ],
   "source": [
    "# age initialization\n",
    "age = 1\n",
    "# title for error checking\n",
    "age = input(\"Tell me your age: \").title()\n",
    "while age != \"Quit\":\n",
    "    # converts input to int and determines which output should be for age\n",
    "    if int(age) < 0:\n",
    "        print(\"dead\")\n",
    "    elif int(age) < 18:\n",
    "        print(\"kids\")\n",
    "    elif int(age) <= 65:\n",
    "        print(\"adults\")\n",
    "    else:\n",
    "        print('seniors')\n",
    "    # input at end so the beginning always works if it starts with quit so quit doesn't go into if statement\n",
    "    age = input(\"Tell me your age: \").title()"
   ]
  },
  {
   "cell_type": "code",
   "execution_count": null,
   "metadata": {},
   "outputs": [],
   "source": []
  }
 ],
 "metadata": {
  "kernelspec": {
   "display_name": "Python 3 (ipykernel)",
   "language": "python",
   "name": "python3"
  },
  "language_info": {
   "codemirror_mode": {
    "name": "ipython",
    "version": 3
   },
   "file_extension": ".py",
   "mimetype": "text/x-python",
   "name": "python",
   "nbconvert_exporter": "python",
   "pygments_lexer": "ipython3",
   "version": "3.9.13"
  }
 },
 "nbformat": 4,
 "nbformat_minor": 2
}
